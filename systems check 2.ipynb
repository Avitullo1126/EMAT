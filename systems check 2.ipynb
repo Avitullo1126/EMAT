{
 "cells": [
  {
   "cell_type": "markdown",
   "id": "56211229",
   "metadata": {},
   "source": [
    "#### Image\n",
    "![](https://cdn-fastly.motorcycle.com/media/2023/03/30/11414683/harley-davidson-motorcycles.jpg?size=720x845&nocrop=1)\n",
    "\n",
    "_this is a bike_\n",
    "\n",
    "__i like bikes__\n",
    "\n",
    "```\n",
    "x = [1] \n",
    "pd.DataFrame(x)\n",
    "``` "
   ]
  },
  {
   "cell_type": "code",
   "execution_count": null,
   "id": "a6939df0",
   "metadata": {},
   "outputs": [],
   "source": []
  }
 ],
 "metadata": {
  "kernelspec": {
   "display_name": "Python 3 (ipykernel)",
   "language": "python",
   "name": "python3"
  },
  "language_info": {
   "codemirror_mode": {
    "name": "ipython",
    "version": 3
   },
   "file_extension": ".py",
   "mimetype": "text/x-python",
   "name": "python",
   "nbconvert_exporter": "python",
   "pygments_lexer": "ipython3",
   "version": "3.11.4"
  }
 },
 "nbformat": 4,
 "nbformat_minor": 5
}
